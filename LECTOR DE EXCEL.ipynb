{
 "cells": [
  {
   "cell_type": "code",
   "execution_count": null,
   "id": "c1108177",
   "metadata": {},
   "outputs": [],
   "source": [
    "import pandas as pd\n",
    "import csv"
   ]
  },
  {
   "cell_type": "code",
   "execution_count": null,
   "id": "ffae2f0b",
   "metadata": {},
   "outputs": [],
   "source": [
    "#### Cargamos la ruta donde se encuentran los datos\n",
    "\n",
    "archivo_txt = \"./Socios_General-2_220507_151045.txt\"\n",
    "archivo_csv = \"./Socios_General-2_220507_151045.csv\""
   ]
  },
  {
   "cell_type": "code",
   "execution_count": null,
   "id": "db81f3cd",
   "metadata": {},
   "outputs": [],
   "source": [
    "#### Cargamos los archivo linea por linea\n",
    "\n",
    "datos = []\n",
    "\n",
    "with open(archivo_txt, 'r', encoding=\"utf-8\") as archivo:\n",
    "    lineas = archivo.readlines()\n",
    "    for linea in lineas:\n",
    "        datos.append(linea.strip().split())  # Suponiendo que los datos están separados por espacios en blanco"
   ]
  },
  {
   "cell_type": "code",
   "execution_count": null,
   "id": "f85448bb",
   "metadata": {},
   "outputs": [],
   "source": [
    "\n",
    "with open(archivo_csv, 'w', newline='') as archivo:\n",
    "    escritor_csv = csv.writer(archivo)\n",
    "    escritor_csv.writerows(datos)"
   ]
  },
  {
   "cell_type": "code",
   "execution_count": null,
   "id": "976e4bb4",
   "metadata": {
    "scrolled": true
   },
   "outputs": [],
   "source": [
    "emails = []\n",
    "\n",
    "with open(archivo_csv, 'r', encoding='latin-1') as archivo:\n",
    "    lector_csv = csv.reader(archivo)\n",
    "    \n",
    "    for fila in lector_csv:\n",
    "        if 'email' in ' '.join(fila).lower():\n",
    "            emails.append(fila)\n",
    "\n",
    "for email in emails:\n",
    "    print(email)"
   ]
  },
  {
   "cell_type": "code",
   "execution_count": null,
   "id": "dd9cc0f4",
   "metadata": {},
   "outputs": [],
   "source": [
    "import csv\n",
    "\n",
    "\n",
    "archivo_salida = \"emails14.csv\"\n",
    "\n",
    "emails = []\n",
    "\n",
    "with open(archivo_csv, 'r', encoding='latin-1') as archivo:\n",
    "    lector_csv = csv.reader(archivo)\n",
    "    \n",
    "    for fila in lector_csv:\n",
    "        if 'email' in ' '.join(fila).lower():\n",
    "            emails.append(fila)\n",
    "\n",
    "# Guardar los emails en un nuevo archivo CSV\n",
    "with open(archivo_salida, 'w', newline='') as archivo_salida:\n",
    "    escritor_csv = csv.writer(archivo_salida)\n",
    "    escritor_csv.writerows(emails)\n",
    "\n",
    "print(\"Archivo CSV de emails guardado exitosamente.\")"
   ]
  },
  {
   "cell_type": "markdown",
   "id": "9cc75a8a",
   "metadata": {},
   "source": [
    "* ### Los datos saldran separados por , (fecha, email, nombre apellido, deuda, ETC) "
   ]
  },
  {
   "cell_type": "code",
   "execution_count": null,
   "id": "a7ec657e",
   "metadata": {},
   "outputs": [],
   "source": []
  }
 ],
 "metadata": {
  "kernelspec": {
   "display_name": "Python 3 (ipykernel)",
   "language": "python",
   "name": "python3"
  },
  "language_info": {
   "codemirror_mode": {
    "name": "ipython",
    "version": 3
   },
   "file_extension": ".py",
   "mimetype": "text/x-python",
   "name": "python",
   "nbconvert_exporter": "python",
   "pygments_lexer": "ipython3",
   "version": "3.8.13"
  }
 },
 "nbformat": 4,
 "nbformat_minor": 5
}
